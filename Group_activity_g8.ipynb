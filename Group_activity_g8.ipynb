{
  "cells": [
    {
      "cell_type": "markdown",
      "metadata": {
        "id": "view-in-github",
        "colab_type": "text"
      },
      "source": [
        "<a href=\"https://colab.research.google.com/github/Issac-12/seaborn-and-waffle-charts/blob/main/Group_activity_g8.ipynb\" target=\"_parent\"><img src=\"https://colab.research.google.com/assets/colab-badge.svg\" alt=\"Open In Colab\"/></a>"
      ]
    },
    {
      "cell_type": "code",
      "execution_count": null,
      "id": "44eaa086",
      "metadata": {
        "id": "44eaa086"
      },
      "outputs": [],
      "source": [
        "import pandas as pd\n",
        "import matplotlib.pyplot as plt\n",
        "import seaborn as sns\n",
        "import plotly.express as px"
      ]
    },
    {
      "cell_type": "code",
      "execution_count": null,
      "id": "1a96e88e",
      "metadata": {
        "colab": {
          "base_uri": "https://localhost:8080/",
          "height": 392
        },
        "id": "1a96e88e",
        "outputId": "63170585-612d-46e0-8c23-7e65bdd449be"
      },
      "outputs": [
        {
          "output_type": "execute_result",
          "data": {
            "text/plain": [
              "   work_year experience_level employment_type               job_title  salary  \\\n",
              "0       2022               EN              FT   Cyber Program Manager   63000   \n",
              "1       2022               MI              FT        Security Analyst   95000   \n",
              "2       2022               MI              FT        Security Analyst   70000   \n",
              "3       2022               MI              FT     IT Security Analyst  250000   \n",
              "4       2022               EN              CT  Cyber Security Analyst  120000   \n",
              "\n",
              "  salary_currency  salary_in_usd employee_residence  remote_ratio  \\\n",
              "0             USD          63000                 US            50   \n",
              "1             USD          95000                 US             0   \n",
              "2             USD          70000                 US             0   \n",
              "3             BRL          48853                 BR            50   \n",
              "4             USD         120000                 BW           100   \n",
              "\n",
              "  company_location company_size  \n",
              "0               US            S  \n",
              "1               US            M  \n",
              "2               US            M  \n",
              "3               BR            L  \n",
              "4               BW            S  "
            ],
            "text/html": [
              "\n",
              "  <div id=\"df-fdd470f8-9e0d-489f-a841-f157c4cadf82\">\n",
              "    <div class=\"colab-df-container\">\n",
              "      <div>\n",
              "<style scoped>\n",
              "    .dataframe tbody tr th:only-of-type {\n",
              "        vertical-align: middle;\n",
              "    }\n",
              "\n",
              "    .dataframe tbody tr th {\n",
              "        vertical-align: top;\n",
              "    }\n",
              "\n",
              "    .dataframe thead th {\n",
              "        text-align: right;\n",
              "    }\n",
              "</style>\n",
              "<table border=\"1\" class=\"dataframe\">\n",
              "  <thead>\n",
              "    <tr style=\"text-align: right;\">\n",
              "      <th></th>\n",
              "      <th>work_year</th>\n",
              "      <th>experience_level</th>\n",
              "      <th>employment_type</th>\n",
              "      <th>job_title</th>\n",
              "      <th>salary</th>\n",
              "      <th>salary_currency</th>\n",
              "      <th>salary_in_usd</th>\n",
              "      <th>employee_residence</th>\n",
              "      <th>remote_ratio</th>\n",
              "      <th>company_location</th>\n",
              "      <th>company_size</th>\n",
              "    </tr>\n",
              "  </thead>\n",
              "  <tbody>\n",
              "    <tr>\n",
              "      <th>0</th>\n",
              "      <td>2022</td>\n",
              "      <td>EN</td>\n",
              "      <td>FT</td>\n",
              "      <td>Cyber Program Manager</td>\n",
              "      <td>63000</td>\n",
              "      <td>USD</td>\n",
              "      <td>63000</td>\n",
              "      <td>US</td>\n",
              "      <td>50</td>\n",
              "      <td>US</td>\n",
              "      <td>S</td>\n",
              "    </tr>\n",
              "    <tr>\n",
              "      <th>1</th>\n",
              "      <td>2022</td>\n",
              "      <td>MI</td>\n",
              "      <td>FT</td>\n",
              "      <td>Security Analyst</td>\n",
              "      <td>95000</td>\n",
              "      <td>USD</td>\n",
              "      <td>95000</td>\n",
              "      <td>US</td>\n",
              "      <td>0</td>\n",
              "      <td>US</td>\n",
              "      <td>M</td>\n",
              "    </tr>\n",
              "    <tr>\n",
              "      <th>2</th>\n",
              "      <td>2022</td>\n",
              "      <td>MI</td>\n",
              "      <td>FT</td>\n",
              "      <td>Security Analyst</td>\n",
              "      <td>70000</td>\n",
              "      <td>USD</td>\n",
              "      <td>70000</td>\n",
              "      <td>US</td>\n",
              "      <td>0</td>\n",
              "      <td>US</td>\n",
              "      <td>M</td>\n",
              "    </tr>\n",
              "    <tr>\n",
              "      <th>3</th>\n",
              "      <td>2022</td>\n",
              "      <td>MI</td>\n",
              "      <td>FT</td>\n",
              "      <td>IT Security Analyst</td>\n",
              "      <td>250000</td>\n",
              "      <td>BRL</td>\n",
              "      <td>48853</td>\n",
              "      <td>BR</td>\n",
              "      <td>50</td>\n",
              "      <td>BR</td>\n",
              "      <td>L</td>\n",
              "    </tr>\n",
              "    <tr>\n",
              "      <th>4</th>\n",
              "      <td>2022</td>\n",
              "      <td>EN</td>\n",
              "      <td>CT</td>\n",
              "      <td>Cyber Security Analyst</td>\n",
              "      <td>120000</td>\n",
              "      <td>USD</td>\n",
              "      <td>120000</td>\n",
              "      <td>BW</td>\n",
              "      <td>100</td>\n",
              "      <td>BW</td>\n",
              "      <td>S</td>\n",
              "    </tr>\n",
              "  </tbody>\n",
              "</table>\n",
              "</div>\n",
              "      <button class=\"colab-df-convert\" onclick=\"convertToInteractive('df-fdd470f8-9e0d-489f-a841-f157c4cadf82')\"\n",
              "              title=\"Convert this dataframe to an interactive table.\"\n",
              "              style=\"display:none;\">\n",
              "        \n",
              "  <svg xmlns=\"http://www.w3.org/2000/svg\" height=\"24px\"viewBox=\"0 0 24 24\"\n",
              "       width=\"24px\">\n",
              "    <path d=\"M0 0h24v24H0V0z\" fill=\"none\"/>\n",
              "    <path d=\"M18.56 5.44l.94 2.06.94-2.06 2.06-.94-2.06-.94-.94-2.06-.94 2.06-2.06.94zm-11 1L8.5 8.5l.94-2.06 2.06-.94-2.06-.94L8.5 2.5l-.94 2.06-2.06.94zm10 10l.94 2.06.94-2.06 2.06-.94-2.06-.94-.94-2.06-.94 2.06-2.06.94z\"/><path d=\"M17.41 7.96l-1.37-1.37c-.4-.4-.92-.59-1.43-.59-.52 0-1.04.2-1.43.59L10.3 9.45l-7.72 7.72c-.78.78-.78 2.05 0 2.83L4 21.41c.39.39.9.59 1.41.59.51 0 1.02-.2 1.41-.59l7.78-7.78 2.81-2.81c.8-.78.8-2.07 0-2.86zM5.41 20L4 18.59l7.72-7.72 1.47 1.35L5.41 20z\"/>\n",
              "  </svg>\n",
              "      </button>\n",
              "      \n",
              "  <style>\n",
              "    .colab-df-container {\n",
              "      display:flex;\n",
              "      flex-wrap:wrap;\n",
              "      gap: 12px;\n",
              "    }\n",
              "\n",
              "    .colab-df-convert {\n",
              "      background-color: #E8F0FE;\n",
              "      border: none;\n",
              "      border-radius: 50%;\n",
              "      cursor: pointer;\n",
              "      display: none;\n",
              "      fill: #1967D2;\n",
              "      height: 32px;\n",
              "      padding: 0 0 0 0;\n",
              "      width: 32px;\n",
              "    }\n",
              "\n",
              "    .colab-df-convert:hover {\n",
              "      background-color: #E2EBFA;\n",
              "      box-shadow: 0px 1px 2px rgba(60, 64, 67, 0.3), 0px 1px 3px 1px rgba(60, 64, 67, 0.15);\n",
              "      fill: #174EA6;\n",
              "    }\n",
              "\n",
              "    [theme=dark] .colab-df-convert {\n",
              "      background-color: #3B4455;\n",
              "      fill: #D2E3FC;\n",
              "    }\n",
              "\n",
              "    [theme=dark] .colab-df-convert:hover {\n",
              "      background-color: #434B5C;\n",
              "      box-shadow: 0px 1px 3px 1px rgba(0, 0, 0, 0.15);\n",
              "      filter: drop-shadow(0px 1px 2px rgba(0, 0, 0, 0.3));\n",
              "      fill: #FFFFFF;\n",
              "    }\n",
              "  </style>\n",
              "\n",
              "      <script>\n",
              "        const buttonEl =\n",
              "          document.querySelector('#df-fdd470f8-9e0d-489f-a841-f157c4cadf82 button.colab-df-convert');\n",
              "        buttonEl.style.display =\n",
              "          google.colab.kernel.accessAllowed ? 'block' : 'none';\n",
              "\n",
              "        async function convertToInteractive(key) {\n",
              "          const element = document.querySelector('#df-fdd470f8-9e0d-489f-a841-f157c4cadf82');\n",
              "          const dataTable =\n",
              "            await google.colab.kernel.invokeFunction('convertToInteractive',\n",
              "                                                     [key], {});\n",
              "          if (!dataTable) return;\n",
              "\n",
              "          const docLinkHtml = 'Like what you see? Visit the ' +\n",
              "            '<a target=\"_blank\" href=https://colab.research.google.com/notebooks/data_table.ipynb>data table notebook</a>'\n",
              "            + ' to learn more about interactive tables.';\n",
              "          element.innerHTML = '';\n",
              "          dataTable['output_type'] = 'display_data';\n",
              "          await google.colab.output.renderOutput(dataTable, element);\n",
              "          const docLink = document.createElement('div');\n",
              "          docLink.innerHTML = docLinkHtml;\n",
              "          element.appendChild(docLink);\n",
              "        }\n",
              "      </script>\n",
              "    </div>\n",
              "  </div>\n",
              "  "
            ]
          },
          "metadata": {},
          "execution_count": 2
        }
      ],
      "source": [
        "#Creating dataframe to reaad the csv file's path.\n",
        "df = pd.read_csv('/content/salaries_cyber.csv')\n",
        "df.head()"
      ]
    },
    {
      "cell_type": "code",
      "source": [
        "df.info()"
      ],
      "metadata": {
        "id": "rFkQsbxBA9Kp",
        "outputId": "ba00f444-0aa5-4b8d-9607-4f907fe5d8b5",
        "colab": {
          "base_uri": "https://localhost:8080/"
        }
      },
      "id": "rFkQsbxBA9Kp",
      "execution_count": null,
      "outputs": [
        {
          "output_type": "stream",
          "name": "stdout",
          "text": [
            "<class 'pandas.core.frame.DataFrame'>\n",
            "RangeIndex: 1247 entries, 0 to 1246\n",
            "Data columns (total 11 columns):\n",
            " #   Column              Non-Null Count  Dtype \n",
            "---  ------              --------------  ----- \n",
            " 0   work_year           1247 non-null   int64 \n",
            " 1   experience_level    1247 non-null   object\n",
            " 2   employment_type     1247 non-null   object\n",
            " 3   job_title           1247 non-null   object\n",
            " 4   salary              1247 non-null   int64 \n",
            " 5   salary_currency     1247 non-null   object\n",
            " 6   salary_in_usd       1247 non-null   int64 \n",
            " 7   employee_residence  1247 non-null   object\n",
            " 8   remote_ratio        1247 non-null   int64 \n",
            " 9   company_location    1247 non-null   object\n",
            " 10  company_size        1247 non-null   object\n",
            "dtypes: int64(4), object(7)\n",
            "memory usage: 107.3+ KB\n"
          ]
        }
      ]
    },
    {
      "cell_type": "code",
      "source": [
        "\n",
        "df.isnull().sum()"
      ],
      "metadata": {
        "id": "e8ROCNvNBB4U",
        "outputId": "e97f57a4-88a0-4a31-a7bc-f2ee3ec7bd84",
        "colab": {
          "base_uri": "https://localhost:8080/"
        }
      },
      "id": "e8ROCNvNBB4U",
      "execution_count": null,
      "outputs": [
        {
          "output_type": "execute_result",
          "data": {
            "text/plain": [
              "work_year             0\n",
              "experience_level      0\n",
              "employment_type       0\n",
              "job_title             0\n",
              "salary                0\n",
              "salary_currency       0\n",
              "salary_in_usd         0\n",
              "employee_residence    0\n",
              "remote_ratio          0\n",
              "company_location      0\n",
              "company_size          0\n",
              "dtype: int64"
            ]
          },
          "metadata": {},
          "execution_count": 4
        }
      ]
    },
    {
      "cell_type": "code",
      "execution_count": null,
      "id": "lbPmbNrJMhmE",
      "metadata": {
        "id": "lbPmbNrJMhmE",
        "outputId": "0916f4fe-04d9-4f85-f937-cb8f17ab4095",
        "colab": {
          "base_uri": "https://localhost:8080/",
          "height": 300
        }
      },
      "outputs": [
        {
          "output_type": "execute_result",
          "data": {
            "text/plain": [
              "         work_year        salary  salary_in_usd  remote_ratio\n",
              "count  1247.000000  1.247000e+03    1247.000000   1247.000000\n",
              "mean   2021.316760  5.608525e+05  120278.218925     71.491580\n",
              "std       0.715501  1.415944e+07   70291.394942     39.346851\n",
              "min    2020.000000  1.740000e+03    2000.000000      0.000000\n",
              "25%    2021.000000  7.975450e+04   74594.500000     50.000000\n",
              "50%    2021.000000  1.200000e+05  110000.000000    100.000000\n",
              "75%    2022.000000  1.600800e+05  150000.000000    100.000000\n",
              "max    2022.000000  5.000000e+08  910991.000000    100.000000"
            ],
            "text/html": [
              "\n",
              "  <div id=\"df-c785654d-9391-402b-a4a2-b5e045dc9e61\">\n",
              "    <div class=\"colab-df-container\">\n",
              "      <div>\n",
              "<style scoped>\n",
              "    .dataframe tbody tr th:only-of-type {\n",
              "        vertical-align: middle;\n",
              "    }\n",
              "\n",
              "    .dataframe tbody tr th {\n",
              "        vertical-align: top;\n",
              "    }\n",
              "\n",
              "    .dataframe thead th {\n",
              "        text-align: right;\n",
              "    }\n",
              "</style>\n",
              "<table border=\"1\" class=\"dataframe\">\n",
              "  <thead>\n",
              "    <tr style=\"text-align: right;\">\n",
              "      <th></th>\n",
              "      <th>work_year</th>\n",
              "      <th>salary</th>\n",
              "      <th>salary_in_usd</th>\n",
              "      <th>remote_ratio</th>\n",
              "    </tr>\n",
              "  </thead>\n",
              "  <tbody>\n",
              "    <tr>\n",
              "      <th>count</th>\n",
              "      <td>1247.000000</td>\n",
              "      <td>1.247000e+03</td>\n",
              "      <td>1247.000000</td>\n",
              "      <td>1247.000000</td>\n",
              "    </tr>\n",
              "    <tr>\n",
              "      <th>mean</th>\n",
              "      <td>2021.316760</td>\n",
              "      <td>5.608525e+05</td>\n",
              "      <td>120278.218925</td>\n",
              "      <td>71.491580</td>\n",
              "    </tr>\n",
              "    <tr>\n",
              "      <th>std</th>\n",
              "      <td>0.715501</td>\n",
              "      <td>1.415944e+07</td>\n",
              "      <td>70291.394942</td>\n",
              "      <td>39.346851</td>\n",
              "    </tr>\n",
              "    <tr>\n",
              "      <th>min</th>\n",
              "      <td>2020.000000</td>\n",
              "      <td>1.740000e+03</td>\n",
              "      <td>2000.000000</td>\n",
              "      <td>0.000000</td>\n",
              "    </tr>\n",
              "    <tr>\n",
              "      <th>25%</th>\n",
              "      <td>2021.000000</td>\n",
              "      <td>7.975450e+04</td>\n",
              "      <td>74594.500000</td>\n",
              "      <td>50.000000</td>\n",
              "    </tr>\n",
              "    <tr>\n",
              "      <th>50%</th>\n",
              "      <td>2021.000000</td>\n",
              "      <td>1.200000e+05</td>\n",
              "      <td>110000.000000</td>\n",
              "      <td>100.000000</td>\n",
              "    </tr>\n",
              "    <tr>\n",
              "      <th>75%</th>\n",
              "      <td>2022.000000</td>\n",
              "      <td>1.600800e+05</td>\n",
              "      <td>150000.000000</td>\n",
              "      <td>100.000000</td>\n",
              "    </tr>\n",
              "    <tr>\n",
              "      <th>max</th>\n",
              "      <td>2022.000000</td>\n",
              "      <td>5.000000e+08</td>\n",
              "      <td>910991.000000</td>\n",
              "      <td>100.000000</td>\n",
              "    </tr>\n",
              "  </tbody>\n",
              "</table>\n",
              "</div>\n",
              "      <button class=\"colab-df-convert\" onclick=\"convertToInteractive('df-c785654d-9391-402b-a4a2-b5e045dc9e61')\"\n",
              "              title=\"Convert this dataframe to an interactive table.\"\n",
              "              style=\"display:none;\">\n",
              "        \n",
              "  <svg xmlns=\"http://www.w3.org/2000/svg\" height=\"24px\"viewBox=\"0 0 24 24\"\n",
              "       width=\"24px\">\n",
              "    <path d=\"M0 0h24v24H0V0z\" fill=\"none\"/>\n",
              "    <path d=\"M18.56 5.44l.94 2.06.94-2.06 2.06-.94-2.06-.94-.94-2.06-.94 2.06-2.06.94zm-11 1L8.5 8.5l.94-2.06 2.06-.94-2.06-.94L8.5 2.5l-.94 2.06-2.06.94zm10 10l.94 2.06.94-2.06 2.06-.94-2.06-.94-.94-2.06-.94 2.06-2.06.94z\"/><path d=\"M17.41 7.96l-1.37-1.37c-.4-.4-.92-.59-1.43-.59-.52 0-1.04.2-1.43.59L10.3 9.45l-7.72 7.72c-.78.78-.78 2.05 0 2.83L4 21.41c.39.39.9.59 1.41.59.51 0 1.02-.2 1.41-.59l7.78-7.78 2.81-2.81c.8-.78.8-2.07 0-2.86zM5.41 20L4 18.59l7.72-7.72 1.47 1.35L5.41 20z\"/>\n",
              "  </svg>\n",
              "      </button>\n",
              "      \n",
              "  <style>\n",
              "    .colab-df-container {\n",
              "      display:flex;\n",
              "      flex-wrap:wrap;\n",
              "      gap: 12px;\n",
              "    }\n",
              "\n",
              "    .colab-df-convert {\n",
              "      background-color: #E8F0FE;\n",
              "      border: none;\n",
              "      border-radius: 50%;\n",
              "      cursor: pointer;\n",
              "      display: none;\n",
              "      fill: #1967D2;\n",
              "      height: 32px;\n",
              "      padding: 0 0 0 0;\n",
              "      width: 32px;\n",
              "    }\n",
              "\n",
              "    .colab-df-convert:hover {\n",
              "      background-color: #E2EBFA;\n",
              "      box-shadow: 0px 1px 2px rgba(60, 64, 67, 0.3), 0px 1px 3px 1px rgba(60, 64, 67, 0.15);\n",
              "      fill: #174EA6;\n",
              "    }\n",
              "\n",
              "    [theme=dark] .colab-df-convert {\n",
              "      background-color: #3B4455;\n",
              "      fill: #D2E3FC;\n",
              "    }\n",
              "\n",
              "    [theme=dark] .colab-df-convert:hover {\n",
              "      background-color: #434B5C;\n",
              "      box-shadow: 0px 1px 3px 1px rgba(0, 0, 0, 0.15);\n",
              "      filter: drop-shadow(0px 1px 2px rgba(0, 0, 0, 0.3));\n",
              "      fill: #FFFFFF;\n",
              "    }\n",
              "  </style>\n",
              "\n",
              "      <script>\n",
              "        const buttonEl =\n",
              "          document.querySelector('#df-c785654d-9391-402b-a4a2-b5e045dc9e61 button.colab-df-convert');\n",
              "        buttonEl.style.display =\n",
              "          google.colab.kernel.accessAllowed ? 'block' : 'none';\n",
              "\n",
              "        async function convertToInteractive(key) {\n",
              "          const element = document.querySelector('#df-c785654d-9391-402b-a4a2-b5e045dc9e61');\n",
              "          const dataTable =\n",
              "            await google.colab.kernel.invokeFunction('convertToInteractive',\n",
              "                                                     [key], {});\n",
              "          if (!dataTable) return;\n",
              "\n",
              "          const docLinkHtml = 'Like what you see? Visit the ' +\n",
              "            '<a target=\"_blank\" href=https://colab.research.google.com/notebooks/data_table.ipynb>data table notebook</a>'\n",
              "            + ' to learn more about interactive tables.';\n",
              "          element.innerHTML = '';\n",
              "          dataTable['output_type'] = 'display_data';\n",
              "          await google.colab.output.renderOutput(dataTable, element);\n",
              "          const docLink = document.createElement('div');\n",
              "          docLink.innerHTML = docLinkHtml;\n",
              "          element.appendChild(docLink);\n",
              "        }\n",
              "      </script>\n",
              "    </div>\n",
              "  </div>\n",
              "  "
            ]
          },
          "metadata": {},
          "execution_count": 5
        }
      ],
      "source": [
        "df.describe()"
      ]
    },
    {
      "cell_type": "markdown",
      "id": "64f5a34d",
      "metadata": {
        "id": "64f5a34d"
      },
      "source": [
        "### Using Matplotlib"
      ]
    },
    {
      "cell_type": "code",
      "execution_count": null,
      "id": "ba201970",
      "metadata": {
        "id": "ba201970",
        "outputId": "3630d631-cfa7-46e2-c2fe-e046c5b0d914",
        "colab": {
          "base_uri": "https://localhost:8080/"
        }
      },
      "outputs": [
        {
          "output_type": "execute_result",
          "data": {
            "text/plain": [
              "0       2022\n",
              "1       2022\n",
              "2       2022\n",
              "3       2022\n",
              "4       2022\n",
              "        ... \n",
              "1242    2020\n",
              "1243    2021\n",
              "1244    2021\n",
              "1245    2021\n",
              "1246    2021\n",
              "Name: work_year, Length: 1247, dtype: int64"
            ]
          },
          "metadata": {},
          "execution_count": 6
        }
      ],
      "source": [
        "df.work_year"
      ]
    },
    {
      "cell_type": "code",
      "execution_count": null,
      "id": "760eb00f",
      "metadata": {
        "id": "760eb00f",
        "outputId": "76b314ab-3b7e-402a-dae2-ef167dd48f4b",
        "colab": {
          "base_uri": "https://localhost:8080/",
          "height": 279
        }
      },
      "outputs": [
        {
          "output_type": "display_data",
          "data": {
            "text/plain": [
              "<Figure size 432x288 with 1 Axes>"
            ],
            "image/png": "[encoded data removed]"
          },
          "metadata": {
            "needs_background": "light"
          }
        }
      ],
      "source": [
        "#2 we have plo\n",
        "df.plot(kind='line', x='experience_level',y='salary_in_usd')\n",
        "plt.xlabel('salary')\n",
        "plt.ylabel('work year');"
      ]
    },
    {
      "cell_type": "code",
      "execution_count": null,
      "id": "9a88a2f0",
      "metadata": {
        "id": "9a88a2f0",
        "scrolled": true,
        "outputId": "520a59d4-7a8f-45f5-8a28-9dffcf585192",
        "colab": {
          "base_uri": "https://localhost:8080/",
          "height": 297
        }
      },
      "outputs": [
        {
          "output_type": "execute_result",
          "data": {
            "text/plain": [
              "Text(0, 0.5, 'salary_in_usd')"
            ]
          },
          "metadata": {},
          "execution_count": 8
        },
        {
          "output_type": "display_data",
          "data": {
            "text/plain": [
              "<Figure size 432x288 with 1 Axes>"
            ],
            "image/png": "[encoded data removed]"
          },
          "metadata": {
            "needs_background": "light"
          }
        }
      ],
      "source": [
        "df.plot(kind='line', x='experience_level',y='salary_in_usd')\n",
        "plt.xlabel('experience_level')\n",
        "plt.ylabel('salary_in_usd')"
      ]
    },
    {
      "cell_type": "markdown",
      "id": "9c858b91",
      "metadata": {
        "id": "9c858b91"
      },
      "source": [
        "### Using Seaborn "
      ]
    },
    {
      "cell_type": "code",
      "execution_count": null,
      "id": "1da7ed3c",
      "metadata": {
        "id": "1da7ed3c",
        "outputId": "8cbe844d-a46e-4747-b642-62985e0324ad",
        "colab": {
          "base_uri": "https://localhost:8080/",
          "height": 297
        }
      },
      "outputs": [
        {
          "output_type": "execute_result",
          "data": {
            "text/plain": [
              "<matplotlib.axes._subplots.AxesSubplot at 0x7fbb81ce4390>"
            ]
          },
          "metadata": {},
          "execution_count": 9
        },
        {
          "output_type": "display_data",
          "data": {
            "text/plain": [
              "<Figure size 432x288 with 1 Axes>"
            ],
            "image/png": "[encoded data removed]"
          },
          "metadata": {
            "needs_background": "light"
          }
        }
      ],
      "source": [
        "# Using Seaborn\n",
        "sns.lineplot(data=df, x=\"experience_level\", y=\"salary_in_usd\")"
      ]
    },
    {
      "cell_type": "code",
      "execution_count": null,
      "id": "6bd7008a",
      "metadata": {
        "id": "6bd7008a",
        "outputId": "fcb42a48-880e-484c-8f66-5fb58cdaf2b8",
        "colab": {
          "base_uri": "https://localhost:8080/",
          "height": 297
        }
      },
      "outputs": [
        {
          "output_type": "execute_result",
          "data": {
            "text/plain": [
              "<matplotlib.axes._subplots.AxesSubplot at 0x7fbb81ceba50>"
            ]
          },
          "metadata": {},
          "execution_count": 10
        },
        {
          "output_type": "display_data",
          "data": {
            "text/plain": [
              "<Figure size 432x288 with 1 Axes>"
            ],
            "image/png": "[encoded data removed]"
          },
          "metadata": {
            "needs_background": "light"
          }
        }
      ],
      "source": [
        "sns.lineplot(data=df, x=\"experience_level\", y=\"salary_in_usd\")"
      ]
    },
    {
      "cell_type": "code",
      "execution_count": null,
      "id": "7NVjjWcqN-8p",
      "metadata": {
        "id": "7NVjjWcqN-8p",
        "outputId": "81a1dce0-614a-4f21-dd74-b625ee0f38df",
        "colab": {
          "base_uri": "https://localhost:8080/",
          "height": 297
        }
      },
      "outputs": [
        {
          "output_type": "execute_result",
          "data": {
            "text/plain": [
              "<matplotlib.axes._subplots.AxesSubplot at 0x7fbb81bf3190>"
            ]
          },
          "metadata": {},
          "execution_count": 11
        },
        {
          "output_type": "display_data",
          "data": {
            "text/plain": [
              "<Figure size 432x288 with 1 Axes>"
            ],
            "image/png": "[encoded data removed]"
          },
          "metadata": {
            "needs_background": "light"
          }
        }
      ],
      "source": [
        "sns.lineplot(data=df, x=\"experience_level\", y=\"salary_in_usd\", hue=\"salary\")\n"
      ]
    },
    {
      "cell_type": "markdown",
      "id": "61187b2b",
      "metadata": {
        "id": "61187b2b"
      },
      "source": [
        "### Using Plotly"
      ]
    },
    {
      "cell_type": "code",
      "execution_count": null,
      "id": "92ec2a0a",
      "metadata": {
        "id": "92ec2a0a",
        "outputId": "b3391bba-14d5-49e2-b473-9c2dd59cb98c",
        "colab": {
          "base_uri": "https://localhost:8080/",
          "height": 542
        }
      },
      "outputs": [
        {
          "output_type": "display_data",
          "data": {
            "text/html": [
              "<html>\n",
              "<head><meta charset=\"utf-8\" /></head>\n",
              "<body>\n",
              "    <div>            <script src=\"https://cdnjs.cloudflare.com/ajax/libs/mathjax/2.7.5/MathJax.js?config=TeX-AMS-MML_SVG\"></script><script type=\"text/javascript\">if (window.MathJax) {MathJax.Hub.Config({SVG: {font: \"STIX-Web\"}});}</script>                <script type=\"text/javascript\">window.PlotlyConfig = {MathJaxConfig: 'local'};</script>\n",
              "        <script src=\"https://cdn.plot.ly/plotly-2.8.3.min.js\"></script>                <div id=\"456f1c0a-bdc9-4868-bf97-3d79431ba99c\" class=\"plotly-graph-div\" style=\"height:525px; width:100%;\"></div>            <script type=\"text/javascript\">                                    window.PLOTLYENV=window.PLOTLYENV || {};                                    if (document.getElementById(\"456f1c0a-bdc9-4868-bf97-3d79431ba99c\")) {                    Plotly.newPlot(                        \"456f1c0a-bdc9-4868-bf97-3d79431ba99c\",                        [{\"hovertemplate\":\"salary=%{x}<br>experience_level=%{y}<extra></extra>\",\"legendgroup\":\"\",\"line\":{\"color\":\"#636efa\",\"dash\":\"solid\"},\"marker\":{\"symbol\":\"circle\"},\"mode\":\"lines\",\"name\":\"\",\"showlegend\":false,\"x\":[63000,95000,70000,250000,120000,315000,220000,140000,55000,360000,50000,85000,90000,50000,290000,232000,244000,112000,72000,60000,450000,45000,109000,152000,91000,120000,207000,300000,115000,126700,52000,237000,150000,110000,104000,75000,165000,190000,135000,150000,97900,90000,175000,89998,150000,115000,135000,102000,108000,200000,85000,50000,157000,108000,148000,130000,120000,450000,150000,500000,184800,130800,80000,60000,114000,207000,153000,245000,98000,220100,176080,226400,124300,145000,50000,50000,50000,50000,40000,238200,176100,181940,132000,186000,148800,252000,145000,236000,12000,167000,175000,70000,86500,120000,200100,160080,165400,132320,207800,153600,25000,88000,180000,210000,160000,250600,118100,105800,81600,140000,267840,214056,240000,107000,92000,80000,60000,60000,60000,60000,115000,750000,80000,55000,170000,140000,175000,180000,101000,101000,175000,97500,67000,124600,96000,292000,170000,160000,140000,180000,140000,245000,190000,226400,124300,63000,91600,165000,160000,92400,103000,154000,139000,160000,120000,50000,82900,63900,75000,75000,89000,68462,72500,276900,168400,105800,81600,177600,131300,120000,90000,145000,105400,220000,140000,175000,130000,20000,60000,80000,200100,160080,135000,100000,195000,170000,108070,91860,207800,153600,102600,82080,160000,110000,140000,100000,120000,80000,180000,140000,240000,180000,152000,91000,200100,160080,193800,62000,160000,120000,192400,90700,150260,109280,175000,90000,200100,160080,130200,106500,146800,118200,165200,133000,165200,133000,146800,118200,115700,94700,60000,50000,210000,160000,144200,132870,175000,120000,180000,80000,91670,63500,180000,90000,40000,25000,165400,132320,184800,148800,207500,125000,165400,132320,145000,118600,152000,91000,210000,160000,157000,108000,175000,90000,80000,65000,220000,165400,184800,148800,145000,118600,165400,132320,165400,132320,160000,130000,115000,100000,131500,111775,221500,104400,210000,160000,140000,90000,165400,132320,60000,50000,267840,214056,201000,160080,172000,87000,141300,102100,141300,88100,120000,30000,222500,135000,300000,250000,210000,160000,168400,148000,165400,132320,200100,160080,220100,176080,140000,120000,65000,55000,230000,190000,182750,153000,210000,140000,207000,153000,182000,153000,220100,176080,120000,90000,60000,50000,276900,104400,192400,90700,210000,160000,208775,147800,157000,108000,152000,91000,200100,160080,111000,200000,1600000,75000,220000,150000,271600,122500,129000,260000,145000,135000,70000,126000,122000,45500,75000,140000,150000,172500,120000,259000,180000,250000,105000,104000,192500,5800,35620,190000,100000,10000,224000,125000,120000,10000,42000,215000,260000,45000,300000,50000,149000,107000,140000,232000,127000,50000,1400000,130000,135000,135000,325000,100000,150000,130000,135000,100000,85000,180000,150000,55000,175000,70000,200000,410000,60000,90000,201000,196000,137000,180000,250000,128000,150000,150000,180000,130000,127000,108856,90000,315000,48000,87000,45000,2000,130000,85000,92000,150000,160000,150000,28000,55000,260000,50000,115000,145000,135000,88000,84000,120000,146000,108000,71500,12000,60000,175000,160000,200000,130000,150000,84300,50000,85000,171200,66000,270000,84583,70000,63000,57000,56400,950000,110000,53000,55000,180000,61000,55000,84000,2202,70000,106000,56000,98000,125000,1500000,50000,160000,467000,102500,150000,76000,480000,310000,46000,65000,155000,99980,145000,79000,120000,210000,125000,115000,225000,38000,52000,250000,710000,153000,38000,180000,120000,107000,20000,65000,150000,57000,305000,500000,125000,51000,140000,297000,46560,96000,130000,100000,71500,260000,36500,82000,129000,155000,125000,73000,170000,160000,70000,98000,143000,83500,120000,120000,20100,240000,97000,220000,287500,150000,120000,157000,208000,100500,175000,150000,72000,125000,190000,65000,160000,90000,360000,200000,32000,120000,34000,67000,40000,165000,173000,109000,126000,230000,112000,130000,130000,58000,69000,145000,61000,70000,126000,67000,145000,75000,74900,55000,87000,65000,45000,143000,165000,700000,130000,130000,125000,112000,119500,220500,70000,172000,118000,130000,300000,50000,73300,143000,300000,105000,200000,42000,500000000,41000,105000,360000,130000,180000,42000,40000,100000,100000,200000,70000,85000,181000,224000,286000,180000,220000,174000,120000,211000,110000,200000,170000,135000,189000,173000,249000,140000,135000,104000,600000,100000,102000,60000,183000,190000,130000,110000,175000,1200000,150000,155000,120000,74000,39000,112000,255000,170000,173000,130000,150000,200000,130000,76000,88000,50000,80000,131800,99900,110000,160000,128000,130000,125000,310000,55000,138000,182000,130000,54000,150000,60000,99960,425000,30000,110000,68900,116000,99000,80000,60000,44000,52000,115500,100000,100000,104000,65000,70000,264000,131500,99950,76200,100000,100000,145000,120000,100000,320000,75000,150000,69000,120000,115000,91700,82600,146000,135000,185000,220000,68500,150000,115000,97350,94000,93000,130000,65000,105000,100000,79000,130000,129998,75000,155000,40200,75000,85000,200000,93600,96500,100000,205000,122000,96000,72000,50000,50000,45000,150000,1000000,35000,23000,140000,85000,92000,103000,70000,27000,65000,180000,50500,83500,216000,90000,95000,70000,150000,130000,175000,220000,106000,120000,75000,26100,96000,75000,75000,3200000,3200000,65000,80000,91520,340000,135600,400000,53000,72000,169000,162000,99000,100000,130000,97000,60000,55000,90000,85000,90000,85000,432000,95000,123000,80000,170000,77000,80000,375000,50400,135000,148000,180000,90000,63700,65000,117810,200000,48000,80000,134000,119000,140000,175000,85000,180000,320000,75000,127000,45100,124000,90000,240000,240000,80000,120000,27000,87500,110000,98000,102000,72000,300000,124000,119000,175000,180000,85000,65000,123000,80000,120000,150000,40000,135000,130000,100000,20000,36200,70000,130000,73000,10320000,70000,92000,145000,135000,45500,150000,44000,75000,48000,50000,150000,90000,70000,102500,130000,85000,120000,600000,141000,66000,60008,272000,80000,40000,31000,150000,100300,150000,119000,192000,102000,240000,63000,98000,55000,100000,80000,72000,75000,80000,67000,130000,85000,120000,76500,160000,200000,142000,180000,120000,40000,72000,150000,100000,28800,140000,187000,648000,104000,100000,65000,128000,120000,105000,120000,145000,37000,78000,125000,130000,130000,141000,120000,90000,172500,90000,93000,41500,62000,240000,195000,110000,50000,90000,120000,42000,140000,155000,95000,12800,330000,98000,2000,85000,47000,120000,120000,70000,75000,101350,60000,85000,100000,76000,170000,105000,100000,65000,3600000,122000,80000,76000,131870,99900,80000,60000,79000,175000,420000,72121,65000,182000,126000,50000,75000,103000,138000,36000,123000,80000,115000,52000,100000,100000,275000,99000,80000,210000,66000,95000,160000,1600000,55000,55000,106000,202000,28250,42900,71000,836000,720000,114000,81000,148000,79509,110000,20000,77000,130000,142000,174000,100000,130000,134000,40000,170000,120000,60000,45000,90000,41000,150000,80000,145000,65000,350000,85000,135000,504000,104000,100000,72000,127000,140000,125000,55000,90000,150000,80000,23000,82700,28500,106000,120000,3800000,200000,170000,107000,159000,73000,146000,105000,320000,23500,77600,75000,180000,45000,63000,1000000,100000,76000,35000,100000,108000,130000,55000,100000,30000,170000,35000,360000,132000,43000,113500,10200,150000,47620,50000,250000,320000,126000,80000,120000,280000,230000,190000,450000,60000,110000,40000,80000,140000,30000,115000,38000,140000,50000,200000,140000,140000,140000,50000,1740,75000,45000,50000,240000,80000,142000,62000,70000,35000,155000,900000,16800,26000,52000,198000,60000,75000,140000,29950,70000,53000,150000,33000,72000,90000,70000,100000,120000,8223,56000,1000000,49100,62000,55000,51000,450000,58000,300000,1500000,80100,175000,200000,82000,132000,105000,106000,115000,115000,143000,289000,180000,115000,252000,107000,135000,190000,48000,140000,180000,90000,75500,203000,34000,140400,110000,172000,88500,76960,145000,109000,56000,85000,75000,300000,140000,169781,110000,85000,108000,85000,125000,133000,126000,43000,260000,200000,105000,133900,75000,384000,89000,400000,205000,198000,51000,110000,190000,49000,86000,65000,149000,140000,116000,81000,115000,128000,63000,100000,122750,144000,80000,100000,110000,35000,65000,170000,135000,100000,356000,140000,60000,126000,42000,66310],\"xaxis\":\"x\",\"y\":[\"EN\",\"MI\",\"MI\",\"MI\",\"EN\",\"EX\",\"SE\",\"SE\",\"MI\",\"EX\",\"EN\",\"SE\",\"MI\",\"EN\",\"EX\",\"EX\",\"EX\",\"EN\",\"EN\",\"SE\",\"EN\",\"MI\",\"EX\",\"MI\",\"MI\",\"SE\",\"MI\",\"EX\",\"MI\",\"SE\",\"EN\",\"SE\",\"EN\",\"SE\",\"EN\",\"EN\",\"SE\",\"SE\",\"SE\",\"MI\",\"MI\",\"SE\",\"SE\",\"MI\",\"MI\",\"MI\",\"MI\",\"EX\",\"SE\",\"SE\",\"EN\",\"EN\",\"SE\",\"SE\",\"EX\",\"MI\",\"MI\",\"MI\",\"SE\",\"EN\",\"SE\",\"SE\",\"MI\",\"MI\",\"MI\",\"SE\",\"SE\",\"SE\",\"SE\",\"SE\",\"SE\",\"SE\",\"SE\",\"SE\",\"EX\",\"EN\",\"EN\",\"EN\",\"MI\",\"SE\",\"SE\",\"SE\",\"SE\",\"SE\",\"SE\",\"SE\",\"SE\",\"EX\",\"EN\",\"SE\",\"EX\",\"EN\",\"MI\",\"MI\",\"SE\",\"SE\",\"SE\",\"SE\",\"SE\",\"SE\",\"EN\",\"MI\",\"EX\",\"SE\",\"SE\",\"SE\",\"SE\",\"SE\",\"SE\",\"EN\",\"SE\",\"SE\",\"SE\",\"MI\",\"MI\",\"EN\",\"EN\",\"EN\",\"EN\",\"EN\",\"EN\",\"EN\",\"MI\",\"MI\",\"MI\",\"MI\",\"SE\",\"EX\",\"MI\",\"MI\",\"SE\",\"MI\",\"EN\",\"SE\",\"SE\",\"SE\",\"SE\",\"MI\",\"MI\",\"SE\",\"SE\",\"SE\",\"SE\",\"SE\",\"SE\",\"EN\",\"EN\",\"MI\",\"SE\",\"SE\",\"SE\",\"SE\",\"SE\",\"EX\",\"EX\",\"MI\",\"SE\",\"SE\",\"EN\",\"EN\",\"MI\",\"MI\",\"MI\",\"SE\",\"SE\",\"SE\",\"SE\",\"SE\",\"SE\",\"SE\",\"SE\",\"MI\",\"MI\",\"SE\",\"SE\",\"SE\",\"SE\",\"EN\",\"SE\",\"EN\",\"MI\",\"MI\",\"MI\",\"MI\",\"SE\",\"SE\",\"MI\",\"MI\",\"SE\",\"SE\",\"MI\",\"MI\",\"MI\",\"MI\",\"MI\",\"MI\",\"MI\",\"MI\",\"MI\",\"MI\",\"EX\",\"EX\",\"MI\",\"MI\",\"MI\",\"MI\",\"MI\",\"MI\",\"SE\",\"SE\",\"SE\",\"SE\",\"SE\",\"SE\",\"SE\",\"SE\",\"SE\",\"SE\",\"SE\",\"SE\",\"SE\",\"SE\",\"SE\",\"SE\",\"SE\",\"SE\",\"SE\",\"SE\",\"SE\",\"SE\",\"MI\",\"MI\",\"SE\",\"SE\",\"SE\",\"SE\",\"SE\",\"SE\",\"SE\",\"SE\",\"MI\",\"MI\",\"SE\",\"SE\",\"EN\",\"EN\",\"SE\",\"SE\",\"SE\",\"SE\",\"SE\",\"SE\",\"SE\",\"SE\",\"MI\",\"MI\",\"MI\",\"MI\",\"SE\",\"SE\",\"SE\",\"SE\",\"SE\",\"SE\",\"MI\",\"MI\",\"SE\",\"SE\",\"SE\",\"SE\",\"SE\",\"SE\",\"SE\",\"SE\",\"SE\",\"SE\",\"SE\",\"SE\",\"MI\",\"MI\",\"SE\",\"SE\",\"SE\",\"SE\",\"SE\",\"SE\",\"MI\",\"MI\",\"SE\",\"SE\",\"MI\",\"MI\",\"SE\",\"SE\",\"SE\",\"SE\",\"MI\",\"MI\",\"MI\",\"MI\",\"MI\",\"MI\",\"SE\",\"SE\",\"SE\",\"SE\",\"EX\",\"EX\",\"SE\",\"SE\",\"SE\",\"SE\",\"SE\",\"SE\",\"SE\",\"SE\",\"SE\",\"SE\",\"SE\",\"SE\",\"MI\",\"MI\",\"SE\",\"SE\",\"SE\",\"SE\",\"MI\",\"MI\",\"SE\",\"SE\",\"MI\",\"MI\",\"SE\",\"SE\",\"SE\",\"SE\",\"MI\",\"MI\",\"SE\",\"SE\",\"SE\",\"SE\",\"SE\",\"SE\",\"MI\",\"MI\",\"SE\",\"SE\",\"MI\",\"MI\",\"SE\",\"SE\",\"MI\",\"MI\",\"SE\",\"EN\",\"EX\",\"EN\",\"SE\",\"MI\",\"MI\",\"SE\",\"SE\",\"SE\",\"EN\",\"MI\",\"MI\",\"EN\",\"MI\",\"MI\",\"SE\",\"SE\",\"MI\",\"EX\",\"SE\",\"SE\",\"EN\",\"SE\",\"SE\",\"EN\",\"MI\",\"SE\",\"MI\",\"EN\",\"SE\",\"SE\",\"SE\",\"MI\",\"SE\",\"SE\",\"MI\",\"MI\",\"SE\",\"EN\",\"SE\",\"SE\",\"SE\",\"SE\",\"SE\",\"EN\",\"MI\",\"MI\",\"SE\",\"SE\",\"EX\",\"EN\",\"SE\",\"MI\",\"SE\",\"SE\",\"EN\",\"SE\",\"SE\",\"EN\",\"SE\",\"EN\",\"EN\",\"MI\",\"MI\",\"MI\",\"EX\",\"SE\",\"SE\",\"MI\",\"MI\",\"SE\",\"SE\",\"MI\",\"MI\",\"SE\",\"MI\",\"MI\",\"MI\",\"SE\",\"EX\",\"MI\",\"EN\",\"EN\",\"SE\",\"SE\",\"SE\",\"MI\",\"SE\",\"SE\",\"MI\",\"MI\",\"SE\",\"EX\",\"MI\",\"SE\",\"SE\",\"MI\",\"MI\",\"SE\",\"SE\",\"EN\",\"EN\",\"EX\",\"EN\",\"SE\",\"SE\",\"SE\",\"MI\",\"SE\",\"EN\",\"EN\",\"EN\",\"MI\",\"MI\",\"EX\",\"MI\",\"EN\",\"EN\",\"SE\",\"MI\",\"SE\",\"EN\",\"EN\",\"EN\",\"SE\",\"SE\",\"MI\",\"MI\",\"MI\",\"EN\",\"SE\",\"MI\",\"MI\",\"SE\",\"SE\",\"SE\",\"MI\",\"SE\",\"EX\",\"SE\",\"EN\",\"SE\",\"EX\",\"MI\",\"MI\",\"MI\",\"MI\",\"MI\",\"EN\",\"MI\",\"EX\",\"MI\",\"SE\",\"SE\",\"SE\",\"EN\",\"EX\",\"SE\",\"EX\",\"MI\",\"SE\",\"MI\",\"MI\",\"SE\",\"EN\",\"SE\",\"SE\",\"SE\",\"SE\",\"SE\",\"EN\",\"SE\",\"SE\",\"MI\",\"SE\",\"SE\",\"SE\",\"SE\",\"SE\",\"EN\",\"SE\",\"SE\",\"SE\",\"SE\",\"EN\",\"SE\",\"SE\",\"EN\",\"MI\",\"SE\",\"MI\",\"MI\",\"MI\",\"MI\",\"EX\",\"MI\",\"SE\",\"EX\",\"SE\",\"SE\",\"SE\",\"SE\",\"SE\",\"EX\",\"SE\",\"EN\",\"SE\",\"SE\",\"EN\",\"MI\",\"MI\",\"SE\",\"SE\",\"EN\",\"MI\",\"EN\",\"EN\",\"SE\",\"MI\",\"SE\",\"MI\",\"MI\",\"MI\",\"SE\",\"SE\",\"SE\",\"EN\",\"MI\",\"MI\",\"MI\",\"EN\",\"SE\",\"SE\",\"EX\",\"EN\",\"MI\",\"MI\",\"SE\",\"EN\",\"MI\",\"SE\",\"SE\",\"MI\",\"SE\",\"MI\",\"SE\",\"SE\",\"SE\",\"EX\",\"EN\",\"SE\",\"SE\",\"SE\",\"EX\",\"EN\",\"MI\",\"MI\",\"EX\",\"SE\",\"SE\",\"MI\",\"SE\",\"EN\",\"SE\",\"EX\",\"MI\",\"SE\",\"EN\",\"EN\",\"SE\",\"SE\",\"SE\",\"EN\",\"EN\",\"SE\",\"SE\",\"SE\",\"SE\",\"EX\",\"SE\",\"SE\",\"SE\",\"SE\",\"MI\",\"MI\",\"SE\",\"EX\",\"EX\",\"SE\",\"SE\",\"SE\",\"EN\",\"SE\",\"MI\",\"SE\",\"MI\",\"SE\",\"SE\",\"MI\",\"SE\",\"EN\",\"EN\",\"MI\",\"MI\",\"EX\",\"EN\",\"SE\",\"SE\",\"SE\",\"SE\",\"SE\",\"MI\",\"SE\",\"EX\",\"MI\",\"MI\",\"MI\",\"EN\",\"SE\",\"MI\",\"MI\",\"MI\",\"MI\",\"MI\",\"MI\",\"MI\",\"SE\",\"EN\",\"SE\",\"SE\",\"SE\",\"MI\",\"MI\",\"EN\",\"SE\",\"EN\",\"EN\",\"MI\",\"MI\",\"MI\",\"EN\",\"MI\",\"MI\",\"EN\",\"EN\",\"MI\",\"MI\",\"MI\",\"SE\",\"MI\",\"EN\",\"SE\",\"MI\",\"MI\",\"EN\",\"MI\",\"MI\",\"SE\",\"MI\",\"MI\",\"MI\",\"EN\",\"SE\",\"MI\",\"SE\",\"MI\",\"MI\",\"MI\",\"SE\",\"MI\",\"SE\",\"EX\",\"EN\",\"SE\",\"MI\",\"MI\",\"SE\",\"EN\",\"SE\",\"SE\",\"MI\",\"MI\",\"EN\",\"SE\",\"SE\",\"EN\",\"SE\",\"MI\",\"MI\",\"SE\",\"SE\",\"MI\",\"MI\",\"EN\",\"SE\",\"EN\",\"EN\",\"EN\",\"EN\",\"EN\",\"MI\",\"EN\",\"MI\",\"EN\",\"MI\",\"SE\",\"MI\",\"SE\",\"MI\",\"EN\",\"EN\",\"EN\",\"SE\",\"SE\",\"MI\",\"SE\",\"MI\",\"SE\",\"EN\",\"SE\",\"SE\",\"SE\",\"MI\",\"EN\",\"SE\",\"EN\",\"EN\",\"MI\",\"EN\",\"EN\",\"SE\",\"MI\",\"EN\",\"EN\",\"MI\",\"EX\",\"SE\",\"EN\",\"MI\",\"MI\",\"MI\",\"MI\",\"MI\",\"MI\",\"MI\",\"MI\",\"MI\",\"MI\",\"MI\",\"EN\",\"MI\",\"EN\",\"MI\",\"SE\",\"MI\",\"SE\",\"SE\",\"EN\",\"MI\",\"EX\",\"EN\",\"MI\",\"SE\",\"SE\",\"MI\",\"EN\",\"SE\",\"EX\",\"MI\",\"SE\",\"MI\",\"SE\",\"MI\",\"MI\",\"MI\",\"SE\",\"MI\",\"SE\",\"MI\",\"MI\",\"EN\",\"SE\",\"MI\",\"EX\",\"EX\",\"MI\",\"MI\",\"SE\",\"MI\",\"MI\",\"EN\",\"MI\",\"MI\",\"EX\",\"MI\",\"EN\",\"SE\",\"SE\",\"SE\",\"EN\",\"SE\",\"EN\",\"MI\",\"MI\",\"SE\",\"SE\",\"MI\",\"MI\",\"EN\",\"EN\",\"EN\",\"SE\",\"EN\",\"MI\",\"EN\",\"MI\",\"MI\",\"SE\",\"EN\",\"SE\",\"MI\",\"EN\",\"SE\",\"MI\",\"SE\",\"MI\",\"MI\",\"SE\",\"EX\",\"MI\",\"MI\",\"EX\",\"SE\",\"EN\",\"EN\",\"SE\",\"EN\",\"MI\",\"EN\",\"SE\",\"EN\",\"SE\",\"MI\",\"MI\",\"SE\",\"SE\",\"EN\",\"MI\",\"SE\",\"SE\",\"MI\",\"MI\",\"EN\",\"MI\",\"MI\",\"SE\",\"SE\",\"MI\",\"MI\",\"SE\",\"EX\",\"EX\",\"EX\",\"MI\",\"MI\",\"MI\",\"SE\",\"MI\",\"EN\",\"SE\",\"EX\",\"MI\",\"EX\",\"MI\",\"EN\",\"MI\",\"MI\",\"MI\",\"MI\",\"MI\",\"EN\",\"EN\",\"SE\",\"SE\",\"SE\",\"SE\",\"SE\",\"MI\",\"EX\",\"SE\",\"MI\",\"SE\",\"EN\",\"SE\",\"SE\",\"MI\",\"EN\",\"SE\",\"SE\",\"EN\",\"SE\",\"SE\",\"MI\",\"MI\",\"EN\",\"SE\",\"EN\",\"EN\",\"EN\",\"MI\",\"SE\",\"EN\",\"MI\",\"EN\",\"EN\",\"EN\",\"SE\",\"MI\",\"EX\",\"SE\",\"MI\",\"MI\",\"MI\",\"MI\",\"MI\",\"EN\",\"MI\",\"MI\",\"EN\",\"SE\",\"MI\",\"EX\",\"MI\",\"MI\",\"MI\",\"SE\",\"SE\",\"EN\",\"MI\",\"MI\",\"SE\",\"MI\",\"SE\",\"MI\",\"MI\",\"MI\",\"SE\",\"MI\",\"SE\",\"SE\",\"EN\",\"MI\",\"EN\",\"MI\",\"SE\",\"MI\",\"SE\",\"SE\",\"SE\",\"EX\",\"EN\",\"MI\",\"EN\",\"EN\",\"EN\",\"MI\",\"EN\",\"EX\",\"MI\",\"EN\",\"MI\",\"EN\",\"MI\",\"SE\",\"SE\",\"MI\",\"MI\",\"SE\",\"MI\",\"SE\",\"MI\",\"SE\",\"EN\",\"MI\",\"MI\",\"MI\",\"MI\",\"SE\",\"EN\",\"MI\",\"MI\",\"SE\",\"MI\",\"SE\",\"MI\",\"SE\",\"SE\",\"SE\",\"SE\",\"SE\",\"SE\",\"SE\",\"SE\",\"EN\",\"MI\",\"EN\",\"MI\",\"SE\",\"EX\",\"SE\",\"SE\",\"SE\",\"SE\",\"MI\",\"SE\",\"MI\",\"EN\",\"EN\",\"EN\",\"EN\",\"SE\",\"SE\",\"EN\",\"MI\",\"MI\",\"EN\",\"SE\",\"MI\",\"SE\",\"MI\",\"SE\",\"MI\",\"MI\",\"SE\",\"MI\",\"MI\",\"SE\",\"EN\",\"SE\",\"EN\",\"MI\",\"SE\",\"MI\",\"SE\",\"EN\",\"SE\",\"SE\",\"EX\",\"SE\",\"SE\",\"SE\",\"SE\",\"EN\",\"MI\",\"SE\",\"EN\",\"SE\",\"MI\",\"MI\",\"MI\",\"MI\",\"SE\",\"SE\",\"MI\",\"SE\",\"SE\",\"SE\",\"MI\",\"SE\",\"SE\",\"SE\",\"EN\",\"MI\",\"EX\",\"SE\",\"MI\",\"EN\",\"SE\",\"SE\",\"EN\",\"MI\",\"MI\",\"SE\",\"EN\",\"SE\",\"SE\",\"SE\",\"EX\",\"EN\",\"SE\",\"MI\",\"SE\",\"MI\",\"SE\",\"MI\",\"MI\",\"MI\",\"SE\",\"EN\",\"MI\",\"MI\",\"SE\",\"MI\",\"SE\",\"MI\",\"SE\",\"MI\",\"EN\",\"SE\",\"SE\",\"SE\",\"SE\",\"SE\",\"SE\",\"SE\",\"SE\",\"SE\",\"EX\",\"SE\",\"MI\",\"SE\",\"MI\",\"SE\",\"SE\",\"EN\",\"MI\",\"SE\",\"SE\",\"EN\",\"SE\",\"EN\",\"MI\",\"MI\",\"SE\",\"EN\",\"EN\",\"SE\",\"MI\",\"EN\",\"EN\",\"SE\",\"SE\",\"SE\",\"EX\",\"SE\",\"MI\",\"SE\",\"SE\",\"EN\",\"SE\",\"MI\",\"EN\",\"SE\",\"EN\",\"MI\",\"SE\",\"MI\",\"SE\",\"MI\",\"EX\",\"SE\",\"SE\",\"SE\",\"SE\",\"EX\",\"SE\",\"MI\",\"EN\",\"SE\",\"SE\",\"MI\",\"SE\",\"MI\",\"MI\",\"MI\",\"SE\",\"MI\",\"MI\",\"SE\",\"EN\",\"MI\",\"SE\",\"EN\",\"SE\",\"SE\",\"EN\",\"MI\",\"MI\",\"SE\",\"SE\",\"MI\",\"MI\"],\"yaxis\":\"y\",\"type\":\"scattergl\"}],                        {\"template\":{\"data\":{\"bar\":[{\"error_x\":{\"color\":\"#2a3f5f\"},\"error_y\":{\"color\":\"#2a3f5f\"},\"marker\":{\"line\":{\"color\":\"#E5ECF6\",\"width\":0.5},\"pattern\":{\"fillmode\":\"overlay\",\"size\":10,\"solidity\":0.2}},\"type\":\"bar\"}],\"barpolar\":[{\"marker\":{\"line\":{\"color\":\"#E5ECF6\",\"width\":0.5},\"pattern\":{\"fillmode\":\"overlay\",\"size\":10,\"solidity\":0.2}},\"type\":\"barpolar\"}],\"carpet\":[{\"aaxis\":{\"endlinecolor\":\"#2a3f5f\",\"gridcolor\":\"white\",\"linecolor\":\"white\",\"minorgridcolor\":\"white\",\"startlinecolor\":\"#2a3f5f\"},\"baxis\":{\"endlinecolor\":\"#2a3f5f\",\"gridcolor\":\"white\",\"linecolor\":\"white\",\"minorgridcolor\":\"white\",\"startlinecolor\":\"#2a3f5f\"},\"type\":\"carpet\"}],\"choropleth\":[{\"colorbar\":{\"outlinewidth\":0,\"ticks\":\"\"},\"type\":\"choropleth\"}],\"contour\":[{\"colorbar\":{\"outlinewidth\":0,\"ticks\":\"\"},\"colorscale\":[[0.0,\"#0d0887\"],[0.1111111111111111,\"#46039f\"],[0.2222222222222222,\"#7201a8\"],[0.3333333333333333,\"#9c179e\"],[0.4444444444444444,\"#bd3786\"],[0.5555555555555556,\"#d8576b\"],[0.6666666666666666,\"#ed7953\"],[0.7777777777777778,\"#fb9f3a\"],[0.8888888888888888,\"#fdca26\"],[1.0,\"#f0f921\"]],\"type\":\"contour\"}],\"contourcarpet\":[{\"colorbar\":{\"outlinewidth\":0,\"ticks\":\"\"},\"type\":\"contourcarpet\"}],\"heatmap\":[{\"colorbar\":{\"outlinewidth\":0,\"ticks\":\"\"},\"colorscale\":[[0.0,\"#0d0887\"],[0.1111111111111111,\"#46039f\"],[0.2222222222222222,\"#7201a8\"],[0.3333333333333333,\"#9c179e\"],[0.4444444444444444,\"#bd3786\"],[0.5555555555555556,\"#d8576b\"],[0.6666666666666666,\"#ed7953\"],[0.7777777777777778,\"#fb9f3a\"],[0.8888888888888888,\"#fdca26\"],[1.0,\"#f0f921\"]],\"type\":\"heatmap\"}],\"heatmapgl\":[{\"colorbar\":{\"outlinewidth\":0,\"ticks\":\"\"},\"colorscale\":[[0.0,\"#0d0887\"],[0.1111111111111111,\"#46039f\"],[0.2222222222222222,\"#7201a8\"],[0.3333333333333333,\"#9c179e\"],[0.4444444444444444,\"#bd3786\"],[0.5555555555555556,\"#d8576b\"],[0.6666666666666666,\"#ed7953\"],[0.7777777777777778,\"#fb9f3a\"],[0.8888888888888888,\"#fdca26\"],[1.0,\"#f0f921\"]],\"type\":\"heatmapgl\"}],\"histogram\":[{\"marker\":{\"pattern\":{\"fillmode\":\"overlay\",\"size\":10,\"solidity\":0.2}},\"type\":\"histogram\"}],\"histogram2d\":[{\"colorbar\":{\"outlinewidth\":0,\"ticks\":\"\"},\"colorscale\":[[0.0,\"#0d0887\"],[0.1111111111111111,\"#46039f\"],[0.2222222222222222,\"#7201a8\"],[0.3333333333333333,\"#9c179e\"],[0.4444444444444444,\"#bd3786\"],[0.5555555555555556,\"#d8576b\"],[0.6666666666666666,\"#ed7953\"],[0.7777777777777778,\"#fb9f3a\"],[0.8888888888888888,\"#fdca26\"],[1.0,\"#f0f921\"]],\"type\":\"histogram2d\"}],\"histogram2dcontour\":[{\"colorbar\":{\"outlinewidth\":0,\"ticks\":\"\"},\"colorscale\":[[0.0,\"#0d0887\"],[0.1111111111111111,\"#46039f\"],[0.2222222222222222,\"#7201a8\"],[0.3333333333333333,\"#9c179e\"],[0.4444444444444444,\"#bd3786\"],[0.5555555555555556,\"#d8576b\"],[0.6666666666666666,\"#ed7953\"],[0.7777777777777778,\"#fb9f3a\"],[0.8888888888888888,\"#fdca26\"],[1.0,\"#f0f921\"]],\"type\":\"histogram2dcontour\"}],\"mesh3d\":[{\"colorbar\":{\"outlinewidth\":0,\"ticks\":\"\"},\"type\":\"mesh3d\"}],\"parcoords\":[{\"line\":{\"colorbar\":{\"outlinewidth\":0,\"ticks\":\"\"}},\"type\":\"parcoords\"}],\"pie\":[{\"automargin\":true,\"type\":\"pie\"}],\"scatter\":[{\"marker\":{\"colorbar\":{\"outlinewidth\":0,\"ticks\":\"\"}},\"type\":\"scatter\"}],\"scatter3d\":[{\"line\":{\"colorbar\":{\"outlinewidth\":0,\"ticks\":\"\"}},\"marker\":{\"colorbar\":{\"outlinewidth\":0,\"ticks\":\"\"}},\"type\":\"scatter3d\"}],\"scattercarpet\":[{\"marker\":{\"colorbar\":{\"outlinewidth\":0,\"ticks\":\"\"}},\"type\":\"scattercarpet\"}],\"scattergeo\":[{\"marker\":{\"colorbar\":{\"outlinewidth\":0,\"ticks\":\"\"}},\"type\":\"scattergeo\"}],\"scattergl\":[{\"marker\":{\"colorbar\":{\"outlinewidth\":0,\"ticks\":\"\"}},\"type\":\"scattergl\"}],\"scattermapbox\":[{\"marker\":{\"colorbar\":{\"outlinewidth\":0,\"ticks\":\"\"}},\"type\":\"scattermapbox\"}],\"scatterpolar\":[{\"marker\":{\"colorbar\":{\"outlinewidth\":0,\"ticks\":\"\"}},\"type\":\"scatterpolar\"}],\"scatterpolargl\":[{\"marker\":{\"colorbar\":{\"outlinewidth\":0,\"ticks\":\"\"}},\"type\":\"scatterpolargl\"}],\"scatterternary\":[{\"marker\":{\"colorbar\":{\"outlinewidth\":0,\"ticks\":\"\"}},\"type\":\"scatterternary\"}],\"surface\":[{\"colorbar\":{\"outlinewidth\":0,\"ticks\":\"\"},\"colorscale\":[[0.0,\"#0d0887\"],[0.1111111111111111,\"#46039f\"],[0.2222222222222222,\"#7201a8\"],[0.3333333333333333,\"#9c179e\"],[0.4444444444444444,\"#bd3786\"],[0.5555555555555556,\"#d8576b\"],[0.6666666666666666,\"#ed7953\"],[0.7777777777777778,\"#fb9f3a\"],[0.8888888888888888,\"#fdca26\"],[1.0,\"#f0f921\"]],\"type\":\"surface\"}],\"table\":[{\"cells\":{\"fill\":{\"color\":\"#EBF0F8\"},\"line\":{\"color\":\"white\"}},\"header\":{\"fill\":{\"color\":\"#C8D4E3\"},\"line\":{\"color\":\"white\"}},\"type\":\"table\"}]},\"layout\":{\"annotationdefaults\":{\"arrowcolor\":\"#2a3f5f\",\"arrowhead\":0,\"arrowwidth\":1},\"autotypenumbers\":\"strict\",\"coloraxis\":{\"colorbar\":{\"outlinewidth\":0,\"ticks\":\"\"}},\"colorscale\":{\"diverging\":[[0,\"#8e0152\"],[0.1,\"#c51b7d\"],[0.2,\"#de77ae\"],[0.3,\"#f1b6da\"],[0.4,\"#fde0ef\"],[0.5,\"#f7f7f7\"],[0.6,\"#e6f5d0\"],[0.7,\"#b8e186\"],[0.8,\"#7fbc41\"],[0.9,\"#4d9221\"],[1,\"#276419\"]],\"sequential\":[[0.0,\"#0d0887\"],[0.1111111111111111,\"#46039f\"],[0.2222222222222222,\"#7201a8\"],[0.3333333333333333,\"#9c179e\"],[0.4444444444444444,\"#bd3786\"],[0.5555555555555556,\"#d8576b\"],[0.6666666666666666,\"#ed7953\"],[0.7777777777777778,\"#fb9f3a\"],[0.8888888888888888,\"#fdca26\"],[1.0,\"#f0f921\"]],\"sequentialminus\":[[0.0,\"#0d0887\"],[0.1111111111111111,\"#46039f\"],[0.2222222222222222,\"#7201a8\"],[0.3333333333333333,\"#9c179e\"],[0.4444444444444444,\"#bd3786\"],[0.5555555555555556,\"#d8576b\"],[0.6666666666666666,\"#ed7953\"],[0.7777777777777778,\"#fb9f3a\"],[0.8888888888888888,\"#fdca26\"],[1.0,\"#f0f921\"]]},\"colorway\":[\"#636efa\",\"#EF553B\",\"#00cc96\",\"#ab63fa\",\"#FFA15A\",\"#19d3f3\",\"#FF6692\",\"#B6E880\",\"#FF97FF\",\"#FECB52\"],\"font\":{\"color\":\"#2a3f5f\"},\"geo\":{\"bgcolor\":\"white\",\"lakecolor\":\"white\",\"landcolor\":\"#E5ECF6\",\"showlakes\":true,\"showland\":true,\"subunitcolor\":\"white\"},\"hoverlabel\":{\"align\":\"left\"},\"hovermode\":\"closest\",\"mapbox\":{\"style\":\"light\"},\"paper_bgcolor\":\"white\",\"plot_bgcolor\":\"#E5ECF6\",\"polar\":{\"angularaxis\":{\"gridcolor\":\"white\",\"linecolor\":\"white\",\"ticks\":\"\"},\"bgcolor\":\"#E5ECF6\",\"radialaxis\":{\"gridcolor\":\"white\",\"linecolor\":\"white\",\"ticks\":\"\"}},\"scene\":{\"xaxis\":{\"backgroundcolor\":\"#E5ECF6\",\"gridcolor\":\"white\",\"gridwidth\":2,\"linecolor\":\"white\",\"showbackground\":true,\"ticks\":\"\",\"zerolinecolor\":\"white\"},\"yaxis\":{\"backgroundcolor\":\"#E5ECF6\",\"gridcolor\":\"white\",\"gridwidth\":2,\"linecolor\":\"white\",\"showbackground\":true,\"ticks\":\"\",\"zerolinecolor\":\"white\"},\"zaxis\":{\"backgroundcolor\":\"#E5ECF6\",\"gridcolor\":\"white\",\"gridwidth\":2,\"linecolor\":\"white\",\"showbackground\":true,\"ticks\":\"\",\"zerolinecolor\":\"white\"}},\"shapedefaults\":{\"line\":{\"color\":\"#2a3f5f\"}},\"ternary\":{\"aaxis\":{\"gridcolor\":\"white\",\"linecolor\":\"white\",\"ticks\":\"\"},\"baxis\":{\"gridcolor\":\"white\",\"linecolor\":\"white\",\"ticks\":\"\"},\"bgcolor\":\"#E5ECF6\",\"caxis\":{\"gridcolor\":\"white\",\"linecolor\":\"white\",\"ticks\":\"\"}},\"title\":{\"x\":0.05},\"xaxis\":{\"automargin\":true,\"gridcolor\":\"white\",\"linecolor\":\"white\",\"ticks\":\"\",\"title\":{\"standoff\":15},\"zerolinecolor\":\"white\",\"zerolinewidth\":2},\"yaxis\":{\"automargin\":true,\"gridcolor\":\"white\",\"linecolor\":\"white\",\"ticks\":\"\",\"title\":{\"standoff\":15},\"zerolinecolor\":\"white\",\"zerolinewidth\":2}}},\"xaxis\":{\"anchor\":\"y\",\"domain\":[0.0,1.0],\"title\":{\"text\":\"salary\"}},\"yaxis\":{\"anchor\":\"x\",\"domain\":[0.0,1.0],\"title\":{\"text\":\"experience_level\"}},\"legend\":{\"tracegroupgap\":0},\"margin\":{\"t\":60}},                        {\"responsive\": true}                    ).then(function(){\n",
              "                            \n",
              "var gd = document.getElementById('456f1c0a-bdc9-4868-bf97-3d79431ba99c');\n",
              "var x = new MutationObserver(function (mutations, observer) {{\n",
              "        var display = window.getComputedStyle(gd).display;\n",
              "        if (!display || display === 'none') {{\n",
              "            console.log([gd, 'removed!']);\n",
              "            Plotly.purge(gd);\n",
              "            observer.disconnect();\n",
              "        }}\n",
              "}});\n",
              "\n",
              "// Listen for the removal of the full notebook cells\n",
              "var notebookContainer = gd.closest('#notebook-container');\n",
              "if (notebookContainer) {{\n",
              "    x.observe(notebookContainer, {childList: true});\n",
              "}}\n",
              "\n",
              "// Listen for the clearing of the current output cell\n",
              "var outputEl = gd.closest('.output');\n",
              "if (outputEl) {{\n",
              "    x.observe(outputEl, {childList: true});\n",
              "}}\n",
              "\n",
              "                        })                };                            </script>        </div>\n",
              "</body>\n",
              "</html>"
            ]
          },
          "metadata": {}
        }
      ],
      "source": [
        "fig = px.line(df, x=\"salary\", y=\"experience_level\")\n",
        "fig.show()"
      ]
    },
    {
      "cell_type": "code",
      "execution_count": null,
      "id": "Ee-fu6fcOpv8",
      "metadata": {
        "id": "Ee-fu6fcOpv8"
      },
      "outputs": [],
      "source": [
        ""
      ]
    },
    {
      "cell_type": "code",
      "source": [
        "import pandas as pd\n",
        "import numpy as np\n",
        "import matplotlib.pyplot as plt\n",
        "import matplotlib.patches as mpatches"
      ],
      "metadata": {
        "id": "uX6PbTLPCxdr"
      },
      "id": "uX6PbTLPCxdr",
      "execution_count": null,
      "outputs": []
    },
    {
      "cell_type": "code",
      "source": [
        "df = pd.DataFrame({'job_title': ['Cyber Program Manager', 'Security Analyst', 'Security Analyst', 'IT Security Analyst', 'Cyber Security Analyst'],\n",
        "   'salary_in_usd': [63000, 95000, 70000, 48853, 120000]\n",
        "})"
      ],
      "metadata": {
        "id": "sFH3luzDI2WZ"
      },
      "id": "sFH3luzDI2WZ",
      "execution_count": null,
      "outputs": []
    },
    {
      "cell_type": "code",
      "source": [
        "total = sum(df['salary_in_usd'])"
      ],
      "metadata": {
        "id": "YAjlRqKAJFbm"
      },
      "id": "YAjlRqKAJFbm",
      "execution_count": null,
      "outputs": []
    },
    {
      "cell_type": "code",
      "source": [
        "proportions = [(float(value) / total) for value in df['salary_in_usd']]"
      ],
      "metadata": {
        "id": "6uUSUDqJJX5U"
      },
      "id": "6uUSUDqJJX5U",
      "execution_count": null,
      "outputs": []
    },
    {
      "cell_type": "code",
      "source": [
        "width = 40\n",
        "height=10\n",
        "total= width * height"
      ],
      "metadata": {
        "id": "IRZKpnxSJidy"
      },
      "id": "IRZKpnxSJidy",
      "execution_count": null,
      "outputs": []
    },
    {
      "cell_type": "code",
      "source": [
        "tiles_per_category = [round(proportion * total) for proportion in proportions]"
      ],
      "metadata": {
        "id": "bRxYZSDpJoJP"
      },
      "id": "bRxYZSDpJoJP",
      "execution_count": null,
      "outputs": []
    },
    {
      "cell_type": "code",
      "source": [
        "waffle = np.zeros((height, width))\n",
        "category_index = 0\n",
        "tile_index = 0\n",
        "for col in range(width):\n",
        "    for row in range(height):\n",
        "        tile_index += 1\n",
        "        if tile_index > sum(tiles_per_category[0:category_index]):\n",
        "            category_index += 1\n",
        "        waffle[row, col] = category_index"
      ],
      "metadata": {
        "id": "jsWGPtWQJvje"
      },
      "id": "jsWGPtWQJvje",
      "execution_count": null,
      "outputs": []
    },
    {
      "cell_type": "code",
      "source": [
        "fig = plt.figure()\n",
        "colormap = plt.cm.coolwarm\n",
        "plt.matshow(waffle, cmap=colormap)\n",
        "plt.colorbar()"
      ],
      "metadata": {
        "id": "Ew_C9c5SJ2mY",
        "outputId": "8f2c66dc-ad99-4d8f-a60a-1f2b9568ae8d",
        "colab": {
          "base_uri": "https://localhost:8080/",
          "height": 299
        }
      },
      "id": "Ew_C9c5SJ2mY",
      "execution_count": null,
      "outputs": [
        {
          "output_type": "execute_result",
          "data": {
            "text/plain": [
              "<matplotlib.colorbar.Colorbar at 0x7fbb807c1750>"
            ]
          },
          "metadata": {},
          "execution_count": 20
        },
        {
          "output_type": "display_data",
          "data": {
            "text/plain": [
              "<Figure size 432x288 with 0 Axes>"
            ]
          },
          "metadata": {}
        },
        {
          "output_type": "display_data",
          "data": {
            "text/plain": [
              "<Figure size 1152x288 with 2 Axes>"
            ],
            "image/png": "[encoded data removed]"
          },
          "metadata": {
            "needs_background": "light"
          }
        }
      ]
    },
    {
      "cell_type": "code",
      "source": [
        "fig = plt.figure()\n",
        "colormap = plt.cm.coolwarm\n",
        "plt.matshow(waffle, cmap=colormap)\n",
        "ax = plt.gca()\n",
        "\n",
        "ax.set_xticks(np.arange(-0.5, (width), 1), minor=True)\n",
        "ax.set_yticks(np.arange(-0.5, (height), 1), minor=True)\n",
        "\n",
        "ax.grid(which='minor', color='w', linestyle='-', linewidth=2)\n",
        "\n",
        "plt.xticks([])\n",
        "plt.yticks([])\n",
        "plt.colorbar()"
      ],
      "metadata": {
        "id": "JhHCz2CXKTFs",
        "outputId": "2fd54379-dced-45df-ca9c-01f2738d80e0",
        "colab": {
          "base_uri": "https://localhost:8080/",
          "height": 299
        }
      },
      "id": "JhHCz2CXKTFs",
      "execution_count": null,
      "outputs": [
        {
          "output_type": "execute_result",
          "data": {
            "text/plain": [
              "<matplotlib.colorbar.Colorbar at 0x7fbb806ccfd0>"
            ]
          },
          "metadata": {},
          "execution_count": 21
        },
        {
          "output_type": "display_data",
          "data": {
            "text/plain": [
              "<Figure size 432x288 with 0 Axes>"
            ]
          },
          "metadata": {}
        },
        {
          "output_type": "display_data",
          "data": {
            "text/plain": [
              "<Figure size 1152x288 with 2 Axes>"
            ],
            "image/png": "[encoded data removed]"
          },
          "metadata": {
            "needs_background": "light"
          }
        }
      ]
    },
    {
      "cell_type": "code",
      "source": [
        "fig = plt.figure()\n",
        "colormap = plt.cm.coolwarm\n",
        "plt.matshow(waffle, cmap=colormap)\n",
        "ax = plt.gca()\n",
        "\n",
        "ax.set_xticks(np.arange(-0.5, (width), 1), minor=True)\n",
        "ax.set_yticks(np.arange(-0.5, (height), 1), minor=True)\n",
        "\n",
        "ax.grid(which='minor', color='w', linestyle='-', linewidth=2)\n",
        "\n",
        "plt.xticks([])\n",
        "plt.yticks([])\n",
        "\n",
        "values = df['salary_in_usd']\n",
        "categories = df['job_title']\n",
        "value_sign = ''\n",
        "values_cumsum = np.cumsum(values)\n",
        "total_values = values_cumsum[len(values_cumsum) - 1]\n",
        "\n",
        "legend_handles = []\n",
        "\n",
        "for i, category in enumerate(categories):\n",
        "    if value_sign == '%':\n",
        "        label_str = category + ' (' + str(values[i]) + value_sign + ')' \n",
        "    else:\n",
        "        label_str = category + ' (' + value_sign + str(values[i]) + ')'\n",
        "        color_val = colormap(float(values_cumsum[i]) / total_values)\n",
        "    legend_handles.append(mpatches.Patch(color=color_val, label=label_str))\n",
        "    plt.legend(handles=legend_handles, loc = 'lower center', ncol=len(categories),\n",
        "          bbox_to_anchor=(0., 0.2, 0.95, 0.1)) #positioning legends\n",
        "plt.colorbar()"
      ],
      "metadata": {
        "id": "roG3vlzVKdH1",
        "outputId": "8b82ca6c-e517-490c-a8a8-755958c129b8",
        "colab": {
          "base_uri": "https://localhost:8080/",
          "height": 299
        }
      },
      "id": "roG3vlzVKdH1",
      "execution_count": null,
      "outputs": [
        {
          "output_type": "execute_result",
          "data": {
            "text/plain": [
              "<matplotlib.colorbar.Colorbar at 0x7fbb804c6b10>"
            ]
          },
          "metadata": {},
          "execution_count": 22
        },
        {
          "output_type": "display_data",
          "data": {
            "text/plain": [
              "<Figure size 432x288 with 0 Axes>"
            ]
          },
          "metadata": {}
        },
        {
          "output_type": "display_data",
          "data": {
            "text/plain": [
              "<Figure size 1152x288 with 2 Axes>"
            ],
            "image/png": "[encoded data removed]"
          },
          "metadata": {
            "needs_background": "light"
          }
        }
      ]
    },
    {
      "cell_type": "code",
      "source": [
        ""
      ],
      "metadata": {
        "id": "8f8-onUNWF-n"
      },
      "id": "8f8-onUNWF-n",
      "execution_count": null,
      "outputs": []
    }
  ],
  "metadata": {
    "colab": {
      "collapsed_sections": [],
      "name": "Group_activity_g8.ipynb",
      "provenance": [],
      "include_colab_link": true
    },
    "kernelspec": {
      "display_name": "Python 3",
      "language": "python",
      "name": "python3"
    },
    "language_info": {
      "codemirror_mode": {
        "name": "ipython",
        "version": 3
      },
      "file_extension": ".py",
      "mimetype": "text/x-python",
      "name": "python",
      "nbconvert_exporter": "python",
      "pygments_lexer": "ipython3",
      "version": "3.8.8"
    }
  },
  "nbformat": 4,
  "nbformat_minor": 5
}